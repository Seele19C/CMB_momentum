{
 "cells": [
  {
   "cell_type": "code",
   "execution_count": 2,
   "metadata": {},
   "outputs": [],
   "source": [
    "import numpy as np\n",
    "import matplotlib.pyplot as plt\n",
    "from nbodykit.lab import *\n",
    "from nbodykit import style, setup_logging\n",
    "import matplotlib.pyplot as plt\n",
    "plt.style.use(style.notebook)\n",
    "import gc\n",
    "import pandas as pd\n",
    "import nbodykit as nb\n",
    "from nbodykit.lab import ArrayCatalog "
   ]
  },
  {
   "cell_type": "code",
   "execution_count": 4,
   "metadata": {},
   "outputs": [
    {
     "name": "stderr",
     "output_type": "stream",
     "text": [
      "/tmp/ipykernel_1599286/382759302.py:1: FutureWarning: Passing (type, 1) or '1type' as a synonym of type is deprecated; in a future version of numpy, it will be understood as (type, (1,)) / '(1,)type'.\n",
      "  struct_dtype = np.dtype([\n"
     ]
    }
   ],
   "source": [
    "struct_dtype = np.dtype([\n",
    "('Pos',np.float32,3),  #Mpc/h Boxsize = 1000\n",
    "('Vel',np.float32,3),  #km/s\n",
    "('Vmax',np.float32,1),  #km/s\n",
    "('CentralMvir',np.float32,1),  #10^10Msun/h\n",
    "('StellarMass',np.float32,1),  #10^10Msun/h\n",
    "('HImass',np.float32,1) #10^10Msun/h #Obreschkow2009\n",
    "])\n",
    "data_read = np.fromfile('/Raid6/1/TeamYZ/xiting/filtered_data_h_13_bin.dat', dtype=struct_dtype)"
   ]
  },
  {
   "cell_type": "code",
   "execution_count": 9,
   "metadata": {},
   "outputs": [
    {
     "data": {
      "text/plain": [
       "26548907"
      ]
     },
     "execution_count": 9,
     "metadata": {},
     "output_type": "execute_result"
    }
   ],
   "source": [
    "np.size(data_read)"
   ]
  },
  {
   "cell_type": "code",
   "execution_count": 7,
   "metadata": {},
   "outputs": [],
   "source": [
    "#const\n",
    "LOS=[1,0,0]\n",
    "z_eff=0.59339\n",
    "min_mvir = 3\n",
    "\n",
    "#cos\n",
    "cosmo = cosmology.Planck15\n",
    "H=cosmo.efunc(z_eff)*100\n",
    "a=1/(1+z_eff)\n",
    "#加红移\n",
    "def RED(cat):\n",
    "    line_of_sight_x=(1,0,0)\n",
    "    cat['vel_x']=cat['Vel']*line_of_sight_x/(a*H)\n",
    "    cat['RsdPos_x']=cat['Pos']+(cat['vel_x']*line_of_sight_x)\n",
    "    cat['Vx'] = cat['Vel'][:,0]\n",
    "    return cat"
   ]
  },
  {
   "cell_type": "code",
   "execution_count": 10,
   "metadata": {},
   "outputs": [],
   "source": [
    "jk_struct = nb.source.catalog.ArrayCatalog(data_read)"
   ]
  },
  {
   "cell_type": "code",
   "execution_count": 14,
   "metadata": {},
   "outputs": [],
   "source": [
    "def momentum_00(cat,BoxSize=1000):\n",
    "    LOS = [1,0,0]\n",
    "    # cat['Vx'] = (cat['Vel'] @ LOS) \n",
    "    mesh = cat.to_mesh(interlaced=True,compensated=True, Nmesh=256, BoxSize=BoxSize, resampler='tsc', position='RsdPos_x')\n",
    "    r00 = FFTPower(mesh, mode='1d', los=[1,0,0])\n",
    "    P00 = r00.power['power'].real - r00.attrs['shotnoise']\n",
    "    return r00, P00\n",
    "def momentum(cat,BoxSize=1000):\n",
    "    LOS = [1,0,0]\n",
    "    # cat['Vx'] = (cat['Vel'] @ LOS) \n",
    "    momentum_mesh = cat.to_mesh(interlaced=True,compensated=True, Nmesh=256, BoxSize=BoxSize, resampler='tsc', position='RsdPos_x', value='Vx')\n",
    "    mesh = cat.to_mesh(interlaced=True,compensated=True, Nmesh=256, BoxSize=BoxSize, resampler='tsc', position='RsdPos_x')\n",
    "    r01 = FFTPower(momentum_mesh, mode='1d', poles=[1], second=mesh, los=LOS)\n",
    "    P01 = 2 * r01.poles['k'] * r01.poles['power_1'].imag\n",
    "    return r01, P01"
   ]
  },
  {
   "cell_type": "code",
   "execution_count": 15,
   "metadata": {},
   "outputs": [],
   "source": [
    "jk_struct = RED(jk_struct)\n",
    "\n",
    "cat_all = jk_struct \n",
    "BoxSize = 1000         \n",
    "nside   = (8, 8, 8)              \n",
    "LOS_vec = np.array([1, 0, 0], dtype=np.float32)"
   ]
  },
  {
   "cell_type": "code",
   "execution_count": 16,
   "metadata": {},
   "outputs": [],
   "source": [
    "momentum_mesh_test = jk_struct.to_mesh(interlaced=True,compensated=True, Nmesh=256, BoxSize=BoxSize, resampler='tsc', position='RsdPos_x', value='Vx')\n",
    "mesh_test = jk_struct.to_mesh(interlaced=True,compensated=True, Nmesh=256, BoxSize=BoxSize, resampler='tsc', position='RsdPos_x')"
   ]
  },
  {
   "cell_type": "code",
   "execution_count": 17,
   "metadata": {},
   "outputs": [
    {
     "ename": "KeyboardInterrupt",
     "evalue": "",
     "output_type": "error",
     "traceback": [
      "\u001b[0;31m---------------------------------------------------------------------------\u001b[0m",
      "\u001b[0;31mKeyboardInterrupt\u001b[0m                         Traceback (most recent call last)",
      "\u001b[1;32m/Raid6/1/TeamYZ/xiting/momentum/mass_tau_6.ipynb 单元格 9\u001b[0m line \u001b[0;36m9\n\u001b[1;32m      <a href='vscode-notebook-cell://ssh-remote%2Bloong/Raid6/1/TeamYZ/xiting/momentum/mass_tau_6.ipynb#X11sdnNjb2RlLXJlbW90ZQ%3D%3D?line=5'>6</a>\u001b[0m P_mesh_blocks_l_2 \u001b[39m=\u001b[39m np\u001b[39m.\u001b[39mempty((B, Nk), dtype\u001b[39m=\u001b[39mnp\u001b[39m.\u001b[39mfloat32)\n\u001b[1;32m      <a href='vscode-notebook-cell://ssh-remote%2Bloong/Raid6/1/TeamYZ/xiting/momentum/mass_tau_6.ipynb#X11sdnNjb2RlLXJlbW90ZQ%3D%3D?line=6'>7</a>\u001b[0m P_mesh_blocks_l_4 \u001b[39m=\u001b[39m np\u001b[39m.\u001b[39mempty((B, Nk), dtype\u001b[39m=\u001b[39mnp\u001b[39m.\u001b[39mfloat32)\n\u001b[0;32m----> <a href='vscode-notebook-cell://ssh-remote%2Bloong/Raid6/1/TeamYZ/xiting/momentum/mass_tau_6.ipynb#X11sdnNjb2RlLXJlbW90ZQ%3D%3D?line=8'>9</a>\u001b[0m r_full_momentum, P_full_momentum \u001b[39m=\u001b[39m momentum(cat_all, BoxSize\u001b[39m=\u001b[39;49mBoxSize)\n\u001b[1;32m     <a href='vscode-notebook-cell://ssh-remote%2Bloong/Raid6/1/TeamYZ/xiting/momentum/mass_tau_6.ipynb#X11sdnNjb2RlLXJlbW90ZQ%3D%3D?line=9'>10</a>\u001b[0m k_mid_momentum \u001b[39m=\u001b[39m r_full_momentum\u001b[39m.\u001b[39mpoles[\u001b[39m'\u001b[39m\u001b[39mk\u001b[39m\u001b[39m'\u001b[39m]\n\u001b[1;32m     <a href='vscode-notebook-cell://ssh-remote%2Bloong/Raid6/1/TeamYZ/xiting/momentum/mass_tau_6.ipynb#X11sdnNjb2RlLXJlbW90ZQ%3D%3D?line=10'>11</a>\u001b[0m Nk_momentum \u001b[39m=\u001b[39m k_mid_momentum\u001b[39m.\u001b[39msize\n",
      "\u001b[1;32m/Raid6/1/TeamYZ/xiting/momentum/mass_tau_6.ipynb 单元格 9\u001b[0m line \u001b[0;36m1\n\u001b[1;32m     <a href='vscode-notebook-cell://ssh-remote%2Bloong/Raid6/1/TeamYZ/xiting/momentum/mass_tau_6.ipynb#X11sdnNjb2RlLXJlbW90ZQ%3D%3D?line=10'>11</a>\u001b[0m momentum_mesh \u001b[39m=\u001b[39m cat\u001b[39m.\u001b[39mto_mesh(interlaced\u001b[39m=\u001b[39m\u001b[39mTrue\u001b[39;00m,compensated\u001b[39m=\u001b[39m\u001b[39mTrue\u001b[39;00m, Nmesh\u001b[39m=\u001b[39m\u001b[39m256\u001b[39m, BoxSize\u001b[39m=\u001b[39mBoxSize, resampler\u001b[39m=\u001b[39m\u001b[39m'\u001b[39m\u001b[39mtsc\u001b[39m\u001b[39m'\u001b[39m, position\u001b[39m=\u001b[39m\u001b[39m'\u001b[39m\u001b[39mRsdPos_x\u001b[39m\u001b[39m'\u001b[39m, value\u001b[39m=\u001b[39m\u001b[39m'\u001b[39m\u001b[39mVx\u001b[39m\u001b[39m'\u001b[39m)\n\u001b[1;32m     <a href='vscode-notebook-cell://ssh-remote%2Bloong/Raid6/1/TeamYZ/xiting/momentum/mass_tau_6.ipynb#X11sdnNjb2RlLXJlbW90ZQ%3D%3D?line=11'>12</a>\u001b[0m mesh \u001b[39m=\u001b[39m cat\u001b[39m.\u001b[39mto_mesh(interlaced\u001b[39m=\u001b[39m\u001b[39mTrue\u001b[39;00m,compensated\u001b[39m=\u001b[39m\u001b[39mTrue\u001b[39;00m, Nmesh\u001b[39m=\u001b[39m\u001b[39m256\u001b[39m, BoxSize\u001b[39m=\u001b[39mBoxSize, resampler\u001b[39m=\u001b[39m\u001b[39m'\u001b[39m\u001b[39mtsc\u001b[39m\u001b[39m'\u001b[39m, position\u001b[39m=\u001b[39m\u001b[39m'\u001b[39m\u001b[39mRsdPos_x\u001b[39m\u001b[39m'\u001b[39m)\n\u001b[0;32m---> <a href='vscode-notebook-cell://ssh-remote%2Bloong/Raid6/1/TeamYZ/xiting/momentum/mass_tau_6.ipynb#X11sdnNjb2RlLXJlbW90ZQ%3D%3D?line=12'>13</a>\u001b[0m r01 \u001b[39m=\u001b[39m FFTPower(momentum_mesh, mode\u001b[39m=\u001b[39;49m\u001b[39m'\u001b[39;49m\u001b[39m1d\u001b[39;49m\u001b[39m'\u001b[39;49m, poles\u001b[39m=\u001b[39;49m[\u001b[39m1\u001b[39;49m], second\u001b[39m=\u001b[39;49mmesh, los\u001b[39m=\u001b[39;49mLOS)\n\u001b[1;32m     <a href='vscode-notebook-cell://ssh-remote%2Bloong/Raid6/1/TeamYZ/xiting/momentum/mass_tau_6.ipynb#X11sdnNjb2RlLXJlbW90ZQ%3D%3D?line=13'>14</a>\u001b[0m P01 \u001b[39m=\u001b[39m \u001b[39m2\u001b[39m \u001b[39m*\u001b[39m r01\u001b[39m.\u001b[39mpoles[\u001b[39m'\u001b[39m\u001b[39mk\u001b[39m\u001b[39m'\u001b[39m] \u001b[39m*\u001b[39m r01\u001b[39m.\u001b[39mpoles[\u001b[39m'\u001b[39m\u001b[39mpower_1\u001b[39m\u001b[39m'\u001b[39m]\u001b[39m.\u001b[39mimag\n\u001b[1;32m     <a href='vscode-notebook-cell://ssh-remote%2Bloong/Raid6/1/TeamYZ/xiting/momentum/mass_tau_6.ipynb#X11sdnNjb2RlLXJlbW90ZQ%3D%3D?line=14'>15</a>\u001b[0m \u001b[39mreturn\u001b[39;00m r01, P01\n",
      "File \u001b[0;32m~/lijzh/miniconda3/envs/nbodykit-env/lib/python3.8/site-packages/nbodykit/algorithms/fftpower.py:224\u001b[0m, in \u001b[0;36mFFTPower.__init__\u001b[0;34m(self, first, mode, Nmesh, BoxSize, second, los, Nmu, dk, kmin, kmax, poles)\u001b[0m\n\u001b[1;32m    221\u001b[0m \u001b[39mself\u001b[39m\u001b[39m.\u001b[39mattrs[\u001b[39m'\u001b[39m\u001b[39mkmin\u001b[39m\u001b[39m'\u001b[39m] \u001b[39m=\u001b[39m kmin\n\u001b[1;32m    222\u001b[0m \u001b[39mself\u001b[39m\u001b[39m.\u001b[39mattrs[\u001b[39m'\u001b[39m\u001b[39mkmax\u001b[39m\u001b[39m'\u001b[39m] \u001b[39m=\u001b[39m kmax\n\u001b[0;32m--> 224\u001b[0m \u001b[39mself\u001b[39m\u001b[39m.\u001b[39mpower, \u001b[39mself\u001b[39m\u001b[39m.\u001b[39mpoles \u001b[39m=\u001b[39m \u001b[39mself\u001b[39;49m\u001b[39m.\u001b[39;49mrun()\n\u001b[1;32m    226\u001b[0m \u001b[39m# for compatibility, copy power's attrs into self.\u001b[39;00m\n\u001b[1;32m    227\u001b[0m \u001b[39mself\u001b[39m\u001b[39m.\u001b[39mattrs\u001b[39m.\u001b[39mupdate(\u001b[39mself\u001b[39m\u001b[39m.\u001b[39mpower\u001b[39m.\u001b[39mattrs)\n",
      "File \u001b[0;32m~/lijzh/miniconda3/envs/nbodykit-env/lib/python3.8/site-packages/nbodykit/algorithms/fftpower.py:281\u001b[0m, in \u001b[0;36mFFTPower.run\u001b[0;34m(self)\u001b[0m\n\u001b[1;32m    278\u001b[0m \u001b[39mif\u001b[39;00m \u001b[39mself\u001b[39m\u001b[39m.\u001b[39mattrs[\u001b[39m'\u001b[39m\u001b[39mmode\u001b[39m\u001b[39m'\u001b[39m] \u001b[39m==\u001b[39m \u001b[39m\"\u001b[39m\u001b[39m1d\u001b[39m\u001b[39m\"\u001b[39m: \u001b[39mself\u001b[39m\u001b[39m.\u001b[39mattrs[\u001b[39m'\u001b[39m\u001b[39mNmu\u001b[39m\u001b[39m'\u001b[39m] \u001b[39m=\u001b[39m \u001b[39m1\u001b[39m\n\u001b[1;32m    280\u001b[0m \u001b[39m# measure the 3D power (y3d is a ComplexField)\u001b[39;00m\n\u001b[0;32m--> 281\u001b[0m y3d, attrs \u001b[39m=\u001b[39m \u001b[39mself\u001b[39;49m\u001b[39m.\u001b[39;49m_compute_3d_power(\u001b[39mself\u001b[39;49m\u001b[39m.\u001b[39;49mfirst, \u001b[39mself\u001b[39;49m\u001b[39m.\u001b[39;49msecond)\n\u001b[1;32m    283\u001b[0m \u001b[39m# binning in k out to the minimum nyquist frequency\u001b[39;00m\n\u001b[1;32m    284\u001b[0m \u001b[39m# (accounting for possibly anisotropic box)\u001b[39;00m\n\u001b[1;32m    285\u001b[0m dk \u001b[39m=\u001b[39m \u001b[39mself\u001b[39m\u001b[39m.\u001b[39mattrs[\u001b[39m'\u001b[39m\u001b[39mdk\u001b[39m\u001b[39m'\u001b[39m]\n",
      "File \u001b[0;32m~/lijzh/miniconda3/envs/nbodykit-env/lib/python3.8/site-packages/nbodykit/algorithms/fftpower.py:111\u001b[0m, in \u001b[0;36mFFTBase._compute_3d_power\u001b[0;34m(self, first, second)\u001b[0m\n\u001b[1;32m    109\u001b[0m     c2 \u001b[39m=\u001b[39m c1\n\u001b[1;32m    110\u001b[0m \u001b[39melse\u001b[39;00m:\n\u001b[0;32m--> 111\u001b[0m     c2 \u001b[39m=\u001b[39m second\u001b[39m.\u001b[39;49mcompute(mode\u001b[39m=\u001b[39;49m\u001b[39m'\u001b[39;49m\u001b[39mcomplex\u001b[39;49m\u001b[39m'\u001b[39;49m, Nmesh\u001b[39m=\u001b[39;49m\u001b[39mself\u001b[39;49m\u001b[39m.\u001b[39;49mattrs[\u001b[39m'\u001b[39;49m\u001b[39mNmesh\u001b[39;49m\u001b[39m'\u001b[39;49m])\n\u001b[1;32m    113\u001b[0m \u001b[39m# calculate the 3d power spectrum, slab-by-slab to save memory\u001b[39;00m\n\u001b[1;32m    114\u001b[0m p3d \u001b[39m=\u001b[39m c1\n",
      "File \u001b[0;32m~/lijzh/miniconda3/envs/nbodykit-env/lib/python3.8/site-packages/nbodykit/base/mesh.py:250\u001b[0m, in \u001b[0;36mMeshSource.compute\u001b[0;34m(self, mode, Nmesh)\u001b[0m\n\u001b[1;32m    246\u001b[0m \u001b[39mdef\u001b[39;00m\u001b[39m \u001b[39m\u001b[39mcompute\u001b[39m(\u001b[39mself\u001b[39m, mode\u001b[39m=\u001b[39m\u001b[39m'\u001b[39m\u001b[39mreal\u001b[39m\u001b[39m'\u001b[39m, Nmesh\u001b[39m=\u001b[39m\u001b[39mNone\u001b[39;00m):\n\u001b[1;32m    247\u001b[0m \u001b[39m    \u001b[39m\u001b[39m\"\"\"\u001b[39;00m\n\u001b[1;32m    248\u001b[0m \u001b[39m        Compute / Fetch the mesh object into memory as a RealField or ComplexField object.\u001b[39;00m\n\u001b[1;32m    249\u001b[0m \u001b[39m    \"\"\"\u001b[39;00m\n\u001b[0;32m--> 250\u001b[0m     \u001b[39mreturn\u001b[39;00m \u001b[39mself\u001b[39;49m\u001b[39m.\u001b[39;49m_paint_XXX(mode\u001b[39m=\u001b[39;49mmode, Nmesh\u001b[39m=\u001b[39;49mNmesh)\n",
      "File \u001b[0;32m~/lijzh/miniconda3/envs/nbodykit-env/lib/python3.8/site-packages/nbodykit/base/mesh.py:289\u001b[0m, in \u001b[0;36mMeshSource._paint_XXX\u001b[0;34m(self, mode, Nmesh)\u001b[0m\n\u001b[1;32m    286\u001b[0m actions \u001b[39m=\u001b[39m \u001b[39mself\u001b[39m\u001b[39m.\u001b[39mactions \u001b[39m+\u001b[39m [(mode, )]\n\u001b[1;32m    288\u001b[0m \u001b[39m# if we expect complex, be smart and use complex directly.\u001b[39;00m\n\u001b[0;32m--> 289\u001b[0m var \u001b[39m=\u001b[39m \u001b[39mself\u001b[39;49m\u001b[39m.\u001b[39;49mto_field(mode\u001b[39m=\u001b[39;49mactions[\u001b[39m0\u001b[39;49m][\u001b[39m0\u001b[39;49m])\n\u001b[1;32m    291\u001b[0m \u001b[39mif\u001b[39;00m \u001b[39mnot\u001b[39;00m \u001b[39mhasattr\u001b[39m(var, \u001b[39m'\u001b[39m\u001b[39mattrs\u001b[39m\u001b[39m'\u001b[39m):\n\u001b[1;32m    292\u001b[0m     attrs \u001b[39m=\u001b[39m {}\n",
      "File \u001b[0;32m~/lijzh/miniconda3/envs/nbodykit-env/lib/python3.8/site-packages/nbodykit/base/mesh.py:235\u001b[0m, in \u001b[0;36mMeshSource.to_field\u001b[0;34m(self, mode, out)\u001b[0m\n\u001b[1;32m    233\u001b[0m \u001b[39mcomplex\u001b[39m \u001b[39m=\u001b[39m \u001b[39mself\u001b[39m\u001b[39m.\u001b[39mto_complex_field()\n\u001b[1;32m    234\u001b[0m \u001b[39mif\u001b[39;00m \u001b[39mcomplex\u001b[39m \u001b[39mis\u001b[39;00m \u001b[39mNotImplemented\u001b[39m:\n\u001b[0;32m--> 235\u001b[0m     real \u001b[39m=\u001b[39m \u001b[39mself\u001b[39;49m\u001b[39m.\u001b[39;49mto_real_field()\n\u001b[1;32m    236\u001b[0m     \u001b[39massert\u001b[39;00m real \u001b[39mis\u001b[39;00m \u001b[39mnot\u001b[39;00m \u001b[39mNotImplemented\u001b[39m\n\u001b[1;32m    237\u001b[0m     \u001b[39mcomplex\u001b[39m \u001b[39m=\u001b[39m real\u001b[39m.\u001b[39mr2c(out\u001b[39m=\u001b[39m\u001b[39mEllipsis\u001b[39m)\n",
      "File \u001b[0;32m~/lijzh/miniconda3/envs/nbodykit-env/lib/python3.8/site-packages/nbodykit/source/mesh/catalog.py:311\u001b[0m, in \u001b[0;36mCatalogMesh.to_real_field\u001b[0;34m(self, out, normalize)\u001b[0m\n\u001b[1;32m    308\u001b[0m     \u001b[39mself\u001b[39m\u001b[39m.\u001b[39mlogger\u001b[39m.\u001b[39minfo(\u001b[39m\"\u001b[39m\u001b[39mChunk \u001b[39m\u001b[39m%d\u001b[39;00m\u001b[39m ~ \u001b[39m\u001b[39m%d\u001b[39;00m\u001b[39m / \u001b[39m\u001b[39m%d\u001b[39;00m\u001b[39m \u001b[39m\u001b[39m\"\u001b[39m \u001b[39m%\u001b[39m (i, i \u001b[39m+\u001b[39m chunksize, Nlocalmax))\n\u001b[1;32m    310\u001b[0m \u001b[39mtry\u001b[39;00m:\n\u001b[0;32m--> 311\u001b[0m     Nlocal1, Wlocal1, W2local1 \u001b[39m=\u001b[39m dochunk(s)\n\u001b[1;32m    312\u001b[0m \u001b[39mexcept\u001b[39;00m \u001b[39mStopIteration\u001b[39;00m:\n\u001b[1;32m    313\u001b[0m     chunksize \u001b[39m=\u001b[39m chunksize \u001b[39m/\u001b[39m\u001b[39m/\u001b[39m \u001b[39m2\u001b[39m\n",
      "File \u001b[0;32m~/lijzh/miniconda3/envs/nbodykit-env/lib/python3.8/site-packages/nbodykit/source/mesh/catalog.py:273\u001b[0m, in \u001b[0;36mCatalogMesh.to_real_field.<locals>.dochunk\u001b[0;34m(s)\u001b[0m\n\u001b[1;32m    271\u001b[0m     lay \u001b[39m=\u001b[39m pm\u001b[39m.\u001b[39mdecompose(position, smoothing\u001b[39m=\u001b[39m\u001b[39m0.5\u001b[39m \u001b[39m*\u001b[39m resampler\u001b[39m.\u001b[39msupport)\n\u001b[1;32m    272\u001b[0m \u001b[39melse\u001b[39;00m:\n\u001b[0;32m--> 273\u001b[0m     lay \u001b[39m=\u001b[39m pm\u001b[39m.\u001b[39;49mdecompose(position, smoothing\u001b[39m=\u001b[39;49m\u001b[39m1.0\u001b[39;49m \u001b[39m*\u001b[39;49m resampler\u001b[39m.\u001b[39;49msupport)\n\u001b[1;32m    275\u001b[0m \u001b[39m# if we are receiving too many particles, abort and retry with a smaller chunksize\u001b[39;00m\n\u001b[1;32m    276\u001b[0m recvlengths \u001b[39m=\u001b[39m pm\u001b[39m.\u001b[39mcomm\u001b[39m.\u001b[39mallgather(lay\u001b[39m.\u001b[39mrecvlength)\n",
      "File \u001b[0;32m~/lijzh/miniconda3/envs/nbodykit-env/lib/python3.8/site-packages/pmesh/pm.py:1777\u001b[0m, in \u001b[0;36mParticleMesh.decompose\u001b[0;34m(self, pos, smoothing, transform)\u001b[0m\n\u001b[1;32m   1773\u001b[0m \u001b[39mdef\u001b[39;00m\u001b[39m \u001b[39m\u001b[39mtransform0\u001b[39m(x):\n\u001b[1;32m   1774\u001b[0m     \u001b[39m# shift is local per processor, thus do not use it.\u001b[39;00m\n\u001b[1;32m   1775\u001b[0m     \u001b[39mreturn\u001b[39;00m transform\u001b[39m.\u001b[39mscale \u001b[39m*\u001b[39m x\n\u001b[0;32m-> 1777\u001b[0m \u001b[39mreturn\u001b[39;00m \u001b[39mself\u001b[39;49m\u001b[39m.\u001b[39;49mdomain\u001b[39m.\u001b[39;49mdecompose(pos, smoothing\u001b[39m=\u001b[39;49msmoothing,\n\u001b[1;32m   1778\u001b[0m         transform\u001b[39m=\u001b[39;49mtransform0)\n",
      "File \u001b[0;32m~/lijzh/miniconda3/envs/nbodykit-env/lib/python3.8/site-packages/pmesh/domain.py:620\u001b[0m, in \u001b[0;36mGridND.decompose\u001b[0;34m(self, pos, smoothing, transform)\u001b[0m\n\u001b[1;32m    618\u001b[0m r \u001b[39m=\u001b[39m \u001b[39mself\u001b[39m\u001b[39m.\u001b[39m_digitize((c \u001b[39m+\u001b[39m smoothing[j]) \u001b[39m%\u001b[39m boxsize, \u001b[39mself\u001b[39m\u001b[39m.\u001b[39medges[j], right\u001b[39m=\u001b[39m\u001b[39mFalse\u001b[39;00m)\n\u001b[1;32m    619\u001b[0m p \u001b[39m=\u001b[39m \u001b[39mself\u001b[39m\u001b[39m.\u001b[39m_digitize(c, \u001b[39mself\u001b[39m\u001b[39m.\u001b[39medges[j], right\u001b[39m=\u001b[39m\u001b[39mFalse\u001b[39;00m)\n\u001b[0;32m--> 620\u001b[0m l \u001b[39m=\u001b[39m p \u001b[39m-\u001b[39m (p \u001b[39m-\u001b[39;49m l) \u001b[39m%\u001b[39;49m \u001b[39mself\u001b[39;49m\u001b[39m.\u001b[39;49mshape[j] \u001b[39m-\u001b[39m \u001b[39m1\u001b[39m\n\u001b[1;32m    621\u001b[0m r \u001b[39m=\u001b[39m p \u001b[39m+\u001b[39m (r \u001b[39m-\u001b[39m p) \u001b[39m%\u001b[39m \u001b[39mself\u001b[39m\u001b[39m.\u001b[39mshape[j]\n\u001b[1;32m    622\u001b[0m \u001b[39m#print(l, p, r)\u001b[39;00m\n",
      "\u001b[0;31mKeyboardInterrupt\u001b[0m: "
     ]
    }
   ],
   "source": [
    "r_full, P_full = momentum_00(cat_all, BoxSize=BoxSize)\n",
    "k_mid = r_full.power['k']\n",
    "Nk    = k_mid.size\n",
    "B = 512\n",
    "P_mesh_blocks_l_0 = np.empty((B, Nk), dtype=np.float32)\n",
    "P_mesh_blocks_l_2 = np.empty((B, Nk), dtype=np.float32)\n",
    "P_mesh_blocks_l_4 = np.empty((B, Nk), dtype=np.float32)\n",
    "\n",
    "r_full_momentum, P_full_momentum = momentum(cat_all, BoxSize=BoxSize)\n",
    "k_mid_momentum = r_full_momentum.poles['k']\n",
    "Nk_momentum = k_mid_momentum.size\n",
    "P_momentum_block = np.empty((B,Nk_momentum), dtype=np.float32)"
   ]
  },
  {
   "cell_type": "code",
   "execution_count": null,
   "metadata": {},
   "outputs": [],
   "source": [
    "step = 32\n",
    "field_momentum = momentum_mesh_test.to_field()\n",
    "value_momentum = field_momentum.value\n",
    "field_mesh = mesh_test.to_field()\n",
    "value_mesh = field_mesh.value\n",
    "b = 0\n",
    "LOS=[1,0,0]\n",
    "\n",
    "\n",
    "for i in range(8):\n",
    "    for j in range(8):\n",
    "        for k in range(8):\n",
    "            slc = (slice(i*step,(i+1)*step),\n",
    "                   slice(j*step,(j+1)*step),\n",
    "                   slice(k*step,(k+1)*step))\n",
    "            \n",
    "            backup_momentum = value_momentum[slc].copy()\n",
    "            backup_mesh = value_mesh[slc].copy()\n",
    "            value_momentum[slc] = 0\n",
    "            value_mesh[slc] = 0\n",
    "            \n",
    "            r01 = FFTPower(field_momentum, mode='1d', poles=[1], second=field_mesh, los=LOS)\n",
    "            P01 = 2 * r01.poles['k'] * r01.poles['power_1'].imag\n",
    "            r00 = FFTPower(field_mesh, mode='1d', poles=[0,2,4], los=[1,0,0])\n",
    "            \n",
    "\n",
    "            P00_l_0 = r00.poles['power_0'].real - r00.attrs['shotnoise']\n",
    "            P_mesh_blocks_l_0[b] = P00_l_0\n",
    "            P00_l_2 = r00.poles['power_2'].real\n",
    "            P_mesh_blocks_l_2[b] = P00_l_2\n",
    "            P00_l_4 = r00.poles['power_4'].real\n",
    "            P_mesh_blocks_l_4[b] = P00_l_4\n",
    "\n",
    "        \n",
    "            P_momentum_block[b] = P01\n",
    "            b += 1\n",
    "            value_momentum[slc] = backup_momentum\n",
    "            value_mesh[slc] = backup_mesh"
   ]
  },
  {
   "cell_type": "code",
   "execution_count": null,
   "metadata": {},
   "outputs": [],
   "source": [
    "P_mesh = {0:P_mesh_blocks_l_0, 2:P_mesh_blocks_l_2, 4:P_mesh_blocks_l_4}\n",
    "cov_00_01 = {}\n",
    "cov_00 = {}"
   ]
  },
  {
   "cell_type": "code",
   "execution_count": null,
   "metadata": {},
   "outputs": [],
   "source": [
    "P_momentum_mean = P_momentum_block.mean(axis=0)\n",
    "diff_momentum   = P_momentum_block - P_momentum_mean\n",
    "\n",
    "for ell in [0,2,4]:  \n",
    "    P_mesh_blocks = P_mesh[ell]\n",
    "    P_mesh_mean = P_mesh_blocks.mean(axis=0)\n",
    "    diff_mesh   = P_mesh_blocks - P_mesh_mean\n",
    "    cov_all_jk = (B - 1) / B * diff_mesh.T @ diff_momentum   \n",
    "    cov_mesh_jk = (B - 1) / B * diff_mesh.T @ diff_mesh \n",
    "    var_mesh_jk = np.diag(cov_mesh_jk)                \n",
    "    sigma_mesh  = np.sqrt(var_mesh_jk)\n",
    "\n",
    "    cov_00_01[ell] = cov_all_jk\n",
    "    cov_00[ell] = cov_mesh_jk\n",
    "\n",
    "\n",
    "    plt.figure()\n",
    "    # idx_skip = 0\n",
    "    # idx_skip_2 = 0                \n",
    "    # mask = (np.arange(k_mid.size) != idx_skip) & idx_skip_2\n",
    "    plt.errorbar(k_mid, k_mid*P_mesh_mean, yerr=sigma_mesh*k_mid,\n",
    "                fmt='o', capsize=3, alpha=0.6,\n",
    "                label=f'data (mean) l={ell}')\n",
    "\n",
    "    plt.xscale('log')\n",
    "    plt.xlabel('K')\n",
    "    plt.ylabel('P')\n",
    "    plt.title(fr'K-$P_mesh$ above $10^{{{10+min_mvir}}}$ (Jackknife, 512 blocks)')\n",
    "    plt.grid(True, alpha=0.4)\n",
    "    plt.tight_layout()\n",
    "    plt.legend()\n",
    "    plt.ylim(-2000,3000)\n",
    "    plt.xlim(0.01, 0.5)\n",
    "    plt.show()\n",
    "\n",
    "\n",
    "cov_momentum_jk = (B - 1) / B * diff_momentum.T @ diff_momentum \n",
    "var_momentum_jk = np.diag(cov_momentum_jk)                \n",
    "sigma_momentum  = np.sqrt(var_momentum_jk)\n",
    "plt.figure()\n",
    "# idx_skip = 0\n",
    "# idx_skip_2 = 0                \n",
    "# mask = (np.arange(k_mid.size) != idx_skip) & idx_skip_2\n",
    "plt.errorbar(k_mid_momentum, P_momentum_mean, yerr=sigma_momentum,\n",
    "            fmt='o', capsize=3, alpha=0.6,\n",
    "            label='data (mean)')\n",
    "\n",
    "plt.xscale('log')\n",
    "plt.xlabel('K')\n",
    "plt.ylabel('P')\n",
    "plt.title(fr'K-$P_momentum$ above $10^{{{10+min_mvir}}}$ (Jackknife, 512 blocks)')\n",
    "plt.grid(True, alpha=0.4)\n",
    "plt.tight_layout()\n",
    "plt.legend()\n",
    "plt.show()\n"
   ]
  },
  {
   "cell_type": "code",
   "execution_count": null,
   "metadata": {},
   "outputs": [],
   "source": []
  },
  {
   "cell_type": "code",
   "execution_count": null,
   "metadata": {},
   "outputs": [],
   "source": [
    "mesh_00_test = cat_all.to_mesh(interlaced=True,compensated=True, Nmesh=256, BoxSize=BoxSize, resampler='tsc', position='RsdPos_x')\n",
    "mesh_r00_test_0 = FFTPower(mesh_00_test, mode='1d', poles=[0,2,4], los=[1,0,0])\n",
    "mesh_r00_test = mesh_r00_test_0.poles\n",
    "mesh_P00_test_l_0 = mesh_r00_test['power_0'].real - mesh_r00_test_0.attrs['shotnoise']\n",
    "mesh_P00_test_l_2 = mesh_r00_test['power_2'].real\n",
    "mesh_P00_test_l_4 = mesh_r00_test['power_4'].real"
   ]
  },
  {
   "cell_type": "code",
   "execution_count": null,
   "metadata": {},
   "outputs": [],
   "source": [
    "# P00\n",
    "plt.loglog(mesh_r00_test['k'], mesh_r00_test['k']*mesh_P00_test_l_0, label=r'$P_{l=0}$')\n",
    "\n",
    "# P01\n",
    "plt.loglog(mesh_r00_test['k'], mesh_r00_test['k']*mesh_P00_test_l_2, label=r\"$P_{l=2}$\")\n",
    "\n",
    "# P11\n",
    "plt.loglog(mesh_r00_test['k'], mesh_r00_test['k']*mesh_P00_test_l_4, label=r\"$P_{l=4}$\")\n",
    "\n",
    "# format the axes\n",
    "plt.legend(loc='lower left', ncol=2)\n",
    "plt.xlabel(r\"$k$ [$h \\ \\mathrm{Mpc}^{-1}$]\")\n",
    "plt.ylabel(r\"$P_{xy}$ [$h^{-3} \\mathrm{Mpc}^3$]\")\n",
    "plt.xscale('linear')\n",
    "plt.yscale('linear')\n",
    "plt.xlim(0.01, 0.5)\n",
    "# plt.ylim(-2e4, 4e4)"
   ]
  }
 ],
 "metadata": {
  "kernelspec": {
   "display_name": "nbodykit-env",
   "language": "python",
   "name": "python3"
  },
  "language_info": {
   "codemirror_mode": {
    "name": "ipython",
    "version": 3
   },
   "file_extension": ".py",
   "mimetype": "text/x-python",
   "name": "python",
   "nbconvert_exporter": "python",
   "pygments_lexer": "ipython3",
   "version": "3.8.20"
  },
  "orig_nbformat": 4
 },
 "nbformat": 4,
 "nbformat_minor": 2
}
